{
 "cells": [
  {
   "cell_type": "markdown",
   "metadata": {},
   "source": [
    "# Quickstart Guide\n",
    "\n",
    "This guide will help you get started with converting Python types to TypeScript types using the provided functions."
   ]
  },
  {
   "cell_type": "markdown",
   "metadata": {},
   "source": [
    "## Installation\n",
    "\n",
    "First, ensure you have the necessary dependencies installed. You can install them using pip:\n",
    "\n",
    "```bash\n",
    "pip install git+https://github.com/semohr/py2ts.git\n",
    "```"
   ]
  },
  {
   "cell_type": "markdown",
   "metadata": {},
   "source": [
    "## Usage\n",
    "\n",
    "To convert a Python type to a TypeScript type, use the [`generate_ts`](py2ts.generate.generate_ts) function. This function will recursively convert the type and its arguments to a tree of typescript types."
   ]
  },
  {
   "cell_type": "markdown",
   "metadata": {},
   "source": [
    "### Examples\n",
    "\n",
    "You may convert simple types like but also more complex types. For a list of supported types, see [here](./supported.md).\n",
    "\n",
    "\n"
   ]
  },
  {
   "cell_type": "code",
   "execution_count": 1,
   "metadata": {},
   "outputs": [
    {
     "name": "stdout",
     "output_type": "stream",
     "text": [
      "number\n"
     ]
    }
   ],
   "source": [
    "from typing import TypedDict\n",
    "\n",
    "from py2ts import generate_ts\n",
    "\n",
    "# Primitive types\n",
    "ts_int = generate_ts(int)\n",
    "print(ts_int)"
   ]
  },
  {
   "cell_type": "code",
   "execution_count": 2,
   "metadata": {},
   "outputs": [
    {
     "name": "stdout",
     "output_type": "stream",
     "text": [
      "Array<number>\n"
     ]
    }
   ],
   "source": [
    "# Derived types\n",
    "ts_list = generate_ts(list[int])\n",
    "print(ts_list)"
   ]
  },
  {
   "cell_type": "code",
   "execution_count": 3,
   "metadata": {},
   "outputs": [
    {
     "name": "stdout",
     "output_type": "stream",
     "text": [
      "interface House {\n",
      "\taddress: string;\n",
      "\towner: Person;\n",
      "}\n"
     ]
    }
   ],
   "source": [
    "# Complex types\n",
    "class Person(TypedDict):\n",
    "    name: str\n",
    "    age: int\n",
    "\n",
    "\n",
    "class House(TypedDict):\n",
    "    address: str\n",
    "    owner: Person\n",
    "\n",
    "\n",
    "ts_house = generate_ts(House)\n",
    "print(ts_house)"
   ]
  },
  {
   "cell_type": "code",
   "execution_count": 4,
   "metadata": {},
   "outputs": [
    {
     "name": "stdout",
     "output_type": "stream",
     "text": [
      "interface Person {\n",
      "\tname: string;\n",
      "\tage: number;\n",
      "}\n",
      "\n",
      "interface House {\n",
      "\taddress: string;\n",
      "\towner: Person;\n",
      "}\n"
     ]
    }
   ],
   "source": [
    "from py2ts.data import TSInterface\n",
    "\n",
    "# You may als generate the full type definition included nested types\n",
    "assert isinstance(ts_house, TSInterface)\n",
    "print(ts_house.full_str())"
   ]
  },
  {
   "cell_type": "markdown",
   "metadata": {},
   "source": [
    "\n",
    "This guide will help you get started with converting Python types to TypeScript types using the provided functions."
   ]
  }
 ],
 "metadata": {
  "kernelspec": {
   "display_name": "py2ts",
   "language": "python",
   "name": "python3"
  },
  "language_info": {
   "codemirror_mode": {
    "name": "ipython",
    "version": 3
   },
   "file_extension": ".py",
   "mimetype": "text/x-python",
   "name": "python",
   "nbconvert_exporter": "python",
   "pygments_lexer": "ipython3",
   "version": "3.11.11"
  }
 },
 "nbformat": 4,
 "nbformat_minor": 2
}
