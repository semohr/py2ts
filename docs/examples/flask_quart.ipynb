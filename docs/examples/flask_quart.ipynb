{
 "cells": [
  {
   "cell_type": "markdown",
   "metadata": {},
   "source": [
    "# Flask & Quart Example\n",
    "\n",
    "This example shows how to generate typescript types from function return typehints in the Flask/Quart framework. We will use [`quart`](https://quart.palletsprojects.com/en/latest/) in this example, but the same approach can be used for flask as well.\n",
    "\n",
    "\n",
    "## Setup\n",
    "\n",
    "Let's assume we have a simple quart app with some endpoint that returns a json response. We want to generate typescript types for the responses which we have already typed, as we are on exemplary behavior today.\n",
    "\n",
    "This might look like this:\n"
   ]
  },
  {
   "cell_type": "code",
   "execution_count": 2,
   "metadata": {},
   "outputs": [],
   "source": [
    "from quart import Quart\n",
    "from typing import TypedDict\n",
    "\n",
    "app = Quart(__name__)\n",
    "\n",
    "\n",
    "class HelloResponse(TypedDict):\n",
    "    hello: str\n",
    "\n",
    "\n",
    "class ComplexResponse(TypedDict):\n",
    "    other: HelloResponse\n",
    "    age: int\n",
    "    is_student: bool\n",
    "\n",
    "\n",
    "@app.route(\"/hello/<name>\")\n",
    "async def hello_json(name: str) -> HelloResponse:\n",
    "    return {\"hello\": name}\n",
    "\n",
    "\n",
    "@app.route(\"/complex/<name>\")\n",
    "async def complex_json(name: str) -> ComplexResponse:\n",
    "    return {\"other\": {\"hello\": name}, \"age\": 20, \"is_student\": True}"
   ]
  },
  {
   "cell_type": "markdown",
   "metadata": {},
   "source": [
    "## Typehints for the quart routes\n",
    "\n",
    "We can now iterate all routes and their view functions, this is builtin into quart. We can then extract the return type of the view function and generate a typescript type from it."
   ]
  },
  {
   "cell_type": "code",
   "execution_count": 3,
   "metadata": {},
   "outputs": [
    {
     "data": {
      "text/plain": [
       "[{'route': '/static/<path:filename>', 'return': typing.Any},\n",
       " {'route': '/hello/<name>', 'return': __main__.HelloResponse},\n",
       " {'route': '/complex/<name>', 'return': __main__.ComplexResponse}]"
      ]
     },
     "execution_count": 3,
     "metadata": {},
     "output_type": "execute_result"
    }
   ],
   "source": [
    "from typing import get_type_hints, Any\n",
    "from quart.wrappers import Response\n",
    "\n",
    "# Iterate through all the quart routes with their function rules\n",
    "# and store the return typehint such as the route string\n",
    "routes = []\n",
    "for (name, func), rule in zip(app.view_functions.items(), app.url_map.iter_rules()):\n",
    "    # We get the return typehint of the function\n",
    "    return_typehint = get_type_hints(func).get(\"return\", {})\n",
    "    if not return_typehint or return_typehint is Response:\n",
    "        return_typehint = Any\n",
    "\n",
    "    # We store the route and the return typehint\n",
    "    # in theory we can extract more information here but this\n",
    "    # is enough for the example\n",
    "    routes.append({\"route\": str(rule), \"return\": return_typehint})\n",
    "\n",
    "routes"
   ]
  },
  {
   "cell_type": "markdown",
   "metadata": {},
   "source": [
    "## Generating the typescript types\n",
    "\n",
    "We have done all the basic work we can now and can generate the typescript types for these return typehints. First we resolve all common dependencies of the return types and then generate a map of all routes and their types."
   ]
  },
  {
   "cell_type": "code",
   "execution_count": 12,
   "metadata": {},
   "outputs": [
    {
     "name": "stdout",
     "output_type": "stream",
     "text": [
      "export interface ComplexResponse {\n",
      "\tother: HelloResponse;\n",
      "\tage: number;\n",
      "\tis_student: boolean;\n",
      "}\n",
      "\n",
      "export interface HelloResponse {\n",
      "\thello: string;\n",
      "}\n",
      "\n",
      "export type Routes = {\n",
      "\t\"/static/<path:filename>\": any;\n",
      "\t\"/hello/<name>\": HelloResponse;\n",
      "\t\"/complex/<name>\": ComplexResponse;\n",
      "};\n"
     ]
    }
   ],
   "source": [
    "import py2ts\n",
    "import py2ts.data\n",
    "\n",
    "\n",
    "# Generate typescript dependencies of the types\n",
    "ts_str = \"\"\n",
    "ts_types = [py2ts.generate_ts(route[\"return\"]) for route in routes]\n",
    "ts_str += py2ts.data.ts_reference_str(ts_types)\n",
    "\n",
    "# Generate mapping of routes to types (using standard string formatting of ts_type)\n",
    "ts_str += \"export type Routes = {\\n\"\n",
    "for route, ts_type in zip(routes, ts_types):\n",
    "    if isinstance(ts_type, py2ts.data.TSInterface):\n",
    "        ts_str += f'\\t\"{route[\"route\"]}\": {ts_type.name};\\n'\n",
    "    else:\n",
    "        ts_str += f'\\t\"{route[\"route\"]}\": {ts_type};\\n'\n",
    "ts_str += \"};\"\n",
    "\n",
    "print(ts_str)"
   ]
  }
 ],
 "metadata": {
  "kernelspec": {
   "display_name": "quart",
   "language": "python",
   "name": "python3"
  },
  "language_info": {
   "codemirror_mode": {
    "name": "ipython",
    "version": 3
   },
   "file_extension": ".py",
   "mimetype": "text/x-python",
   "name": "python",
   "nbconvert_exporter": "python",
   "pygments_lexer": "ipython3",
   "version": "3.11.10"
  }
 },
 "nbformat": 4,
 "nbformat_minor": 2
}
